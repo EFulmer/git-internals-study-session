{
 "cells": [
  {
   "cell_type": "markdown",
   "id": "7da7a69e",
   "metadata": {},
   "source": [
    "# Git internals study session, 22 February 2023\n",
    "\n",
    "## 0. The `.git/` subdir "
   ]
  },
  {
   "cell_type": "code",
   "execution_count": 1,
   "id": "628ebe65",
   "metadata": {},
   "outputs": [],
   "source": [
    "import hashlib\n",
    "import os\n",
    "import pathlib\n",
    "import zlib"
   ]
  },
  {
   "cell_type": "code",
   "execution_count": 2,
   "id": "8aa104ea",
   "metadata": {},
   "outputs": [
    {
     "name": "stdout",
     "output_type": "stream",
     "text": [
      "True\n",
      ".git/config\n",
      ".git/objects\n",
      ".git/HEAD\n",
      ".git/info\n",
      ".git/logs\n",
      ".git/description\n",
      ".git/hooks\n",
      ".git/refs\n",
      ".git/index\n",
      ".git/COMMIT_EDITMSG\n"
     ]
    }
   ],
   "source": [
    "GIT_DIRECTORY = pathlib.PosixPath(\".git/\")\n",
    "\n",
    "OBJECTS_ROOT_DIR = GIT_DIRECTORY / \"objects\"\n",
    "\n",
    "OLD_FILE_ID = \"2bfc82f7e00838e0e39dde7b77c4df3b4817f091\"\n",
    "\n",
    "print(GIT_DIRECTORY.exists())\n",
    "print(\"\\n\".join([str(x) for x in GIT_DIRECTORY.iterdir()]))"
   ]
  },
  {
   "cell_type": "code",
   "execution_count": 3,
   "id": "52ad15f2",
   "metadata": {},
   "outputs": [
    {
     "name": "stdout",
     "output_type": "stream",
     "text": [
      "total 40\r\n",
      "drwxr-xr-x  12 eric.fulmer  FARFETCH\\Domain Users   384B Feb 20 16:04 \u001b[1m\u001b[36m.\u001b[39;49m\u001b[0m\r\n",
      "drwxr-xr-x   9 eric.fulmer  FARFETCH\\Domain Users   288B Feb 20 16:07 \u001b[1m\u001b[36m..\u001b[39;49m\u001b[0m\r\n",
      "-rw-r--r--   1 eric.fulmer  FARFETCH\\Domain Users    41B Feb 20 16:04 COMMIT_EDITMSG\r\n",
      "-rw-r--r--   1 eric.fulmer  FARFETCH\\Domain Users    21B Feb 20 09:36 HEAD\r\n",
      "-rw-r--r--   1 eric.fulmer  FARFETCH\\Domain Users   137B Feb 20 09:36 config\r\n",
      "-rw-r--r--   1 eric.fulmer  FARFETCH\\Domain Users    73B Feb 20 09:36 description\r\n",
      "drwxr-xr-x  15 eric.fulmer  FARFETCH\\Domain Users   480B Feb 20 09:36 \u001b[1m\u001b[36mhooks\u001b[39;49m\u001b[0m\r\n",
      "-rw-r--r--   1 eric.fulmer  FARFETCH\\Domain Users   305B Feb 20 16:04 index\r\n",
      "drwxr-xr-x   3 eric.fulmer  FARFETCH\\Domain Users    96B Feb 20 09:36 \u001b[1m\u001b[36minfo\u001b[39;49m\u001b[0m\r\n",
      "drwxr-xr-x   4 eric.fulmer  FARFETCH\\Domain Users   128B Feb 20 09:36 \u001b[1m\u001b[36mlogs\u001b[39;49m\u001b[0m\r\n",
      "drwxr-xr-x  14 eric.fulmer  FARFETCH\\Domain Users   448B Feb 20 16:04 \u001b[1m\u001b[36mobjects\u001b[39;49m\u001b[0m\r\n",
      "drwxr-xr-x   4 eric.fulmer  FARFETCH\\Domain Users   128B Feb 20 09:36 \u001b[1m\u001b[36mrefs\u001b[39;49m\u001b[0m\r\n"
     ]
    }
   ],
   "source": [
    "!ls -ahl .git/"
   ]
  },
  {
   "cell_type": "code",
   "execution_count": 4,
   "id": "d308ce3c",
   "metadata": {},
   "outputs": [
    {
     "name": "stdout",
     "output_type": "stream",
     "text": [
      "ref: refs/heads/main\n",
      "\n"
     ]
    }
   ],
   "source": [
    "with open(GIT_DIRECTORY / \"HEAD\", \"r\") as f:\n",
    "    print(f.read())"
   ]
  },
  {
   "cell_type": "markdown",
   "id": "aa2933e9",
   "metadata": {},
   "source": [
    "## 1. Git Objects I - Blobs"
   ]
  },
  {
   "cell_type": "code",
   "execution_count": 5,
   "id": "d3bd286c",
   "metadata": {},
   "outputs": [
    {
     "data": {
      "text/plain": [
       "['.git/objects/68/bc17f9ff2104a9d7b6777058bb4c343ca72609',\n",
       " '.git/objects/b5/a99e2b88b7fdb8fb3e54a1df2ce801acecfeb5',\n",
       " '.git/objects/d8/e0be6dc085079b872c14999a1783f47ca1311f',\n",
       " '.git/objects/ab/1964713b60fdfbe235a362b3ec0f2ef9c066c0',\n",
       " '.git/objects/c6/266c7a5b2b5825ff627216e8133135ff0ec496',\n",
       " '.git/objects/64/ba6ed86228c76b5090cef85c65d91a770c7a99',\n",
       " '.git/objects/46/c51474515d3bc9c9388040206e58db2f2ff080',\n",
       " '.git/objects/41/dd0bdb604c7732ef6f9eb4b887a9bd5088b7df',\n",
       " '.git/objects/70/7b7d108cf0d5801e58574dfc84ce8d013961f1',\n",
       " '.git/objects/2b/fc82f7e00838e0e39dde7b77c4df3b4817f091']"
      ]
     },
     "execution_count": 5,
     "metadata": {},
     "output_type": "execute_result"
    }
   ],
   "source": [
    "[\n",
    "    f\".git/objects/{d.name}/{f.name}\" for d in (GIT_DIRECTORY / \"objects\").iterdir() if d.is_dir()\n",
    "    for f in d.iterdir() if f.is_file()\n",
    "]"
   ]
  },
  {
   "cell_type": "code",
   "execution_count": 6,
   "id": "221407e3",
   "metadata": {},
   "outputs": [
    {
     "name": "stdout",
     "output_type": "stream",
     "text": [
      "total 0\r\n",
      "drwxr-xr-x  14 eric.fulmer  FARFETCH\\Domain Users  448 Feb 20 16:04 \u001b[1m\u001b[36m.\u001b[39;49m\u001b[0m\r\n",
      "drwxr-xr-x  12 eric.fulmer  FARFETCH\\Domain Users  384 Feb 20 16:04 \u001b[1m\u001b[36m..\u001b[39;49m\u001b[0m\r\n",
      "drwxr-xr-x   3 eric.fulmer  FARFETCH\\Domain Users   96 Feb 20 16:04 \u001b[1m\u001b[36md8\u001b[39;49m\u001b[0m\r\n",
      "drwxr-xr-x   3 eric.fulmer  FARFETCH\\Domain Users   96 Feb 20 16:04 \u001b[1m\u001b[36m70\u001b[39;49m\u001b[0m\r\n",
      "drwxr-xr-x   3 eric.fulmer  FARFETCH\\Domain Users   96 Feb 20 16:04 \u001b[1m\u001b[36mb5\u001b[39;49m\u001b[0m\r\n",
      "drwxr-xr-x   3 eric.fulmer  FARFETCH\\Domain Users   96 Feb 20 09:38 \u001b[1m\u001b[36m46\u001b[39;49m\u001b[0m\r\n",
      "drwxr-xr-x   3 eric.fulmer  FARFETCH\\Domain Users   96 Feb 20 09:38 \u001b[1m\u001b[36mc6\u001b[39;49m\u001b[0m\r\n",
      "drwxr-xr-x   3 eric.fulmer  FARFETCH\\Domain Users   96 Feb 20 09:38 \u001b[1m\u001b[36m68\u001b[39;49m\u001b[0m\r\n",
      "drwxr-xr-x   3 eric.fulmer  FARFETCH\\Domain Users   96 Feb 20 09:36 \u001b[1m\u001b[36m41\u001b[39;49m\u001b[0m\r\n",
      "drwxr-xr-x   3 eric.fulmer  FARFETCH\\Domain Users   96 Feb 20 09:36 \u001b[1m\u001b[36m64\u001b[39;49m\u001b[0m\r\n",
      "drwxr-xr-x   3 eric.fulmer  FARFETCH\\Domain Users   96 Feb 20 09:36 \u001b[1m\u001b[36m2b\u001b[39;49m\u001b[0m\r\n",
      "drwxr-xr-x   3 eric.fulmer  FARFETCH\\Domain Users   96 Feb 20 09:36 \u001b[1m\u001b[36mab\u001b[39;49m\u001b[0m\r\n",
      "drwxr-xr-x   2 eric.fulmer  FARFETCH\\Domain Users   64 Feb 20 09:36 \u001b[1m\u001b[36minfo\u001b[39;49m\u001b[0m\r\n",
      "drwxr-xr-x   2 eric.fulmer  FARFETCH\\Domain Users   64 Feb 20 09:36 \u001b[1m\u001b[36mpack\u001b[39;49m\u001b[0m\r\n"
     ]
    }
   ],
   "source": [
    "!ls -alt .git/objects"
   ]
  },
  {
   "cell_type": "code",
   "execution_count": 7,
   "id": "4405cf23",
   "metadata": {},
   "outputs": [
    {
     "name": "stdout",
     "output_type": "stream",
     "text": [
      "total 8\r\n",
      "drwxr-xr-x  14 eric.fulmer  FARFETCH\\Domain Users  448 Feb 20 16:04 \u001b[1m\u001b[36m..\u001b[39;49m\u001b[0m/\r\n",
      "drwxr-xr-x   3 eric.fulmer  FARFETCH\\Domain Users   96 Feb 20 16:04 \u001b[1m\u001b[36m.\u001b[39;49m\u001b[0m/\r\n",
      "-r--r--r--   1 eric.fulmer  FARFETCH\\Domain Users  197 Feb 20 16:04 e0be6dc085079b872c14999a1783f47ca1311f\r\n"
     ]
    }
   ],
   "source": [
    "ls -alt .git/objects/d8"
   ]
  },
  {
   "cell_type": "code",
   "execution_count": 8,
   "id": "947f4221",
   "metadata": {},
   "outputs": [
    {
     "name": "stdout",
     "output_type": "stream",
     "text": [
      "b5a99e2b88b7fdb8fb3e54a1df2ce801acecfeb5\n"
     ]
    }
   ],
   "source": [
    "hasher = hashlib.sha1()\n",
    "\n",
    "with open(\"pyproject.toml\", \"r\") as f:\n",
    "    contents = f.read()\n",
    "    header = f\"blob {len(contents)}\\0\"\n",
    "    git_object = header + contents\n",
    "\n",
    "hasher.update(bytes(git_object.encode('utf-8')))\n",
    "print(hasher.hexdigest())\n",
    "head_pyproject_id = hasher.hexdigest()"
   ]
  },
  {
   "cell_type": "code",
   "execution_count": 10,
   "id": "f5b0fe8e",
   "metadata": {},
   "outputs": [
    {
     "name": "stdout",
     "output_type": "stream",
     "text": [
      "a99e2b88b7fdb8fb3e54a1df2ce801acecfeb5\r\n"
     ]
    }
   ],
   "source": [
    "!ls .git/objects/b5"
   ]
  },
  {
   "cell_type": "code",
   "execution_count": 11,
   "id": "fcf00123",
   "metadata": {},
   "outputs": [
    {
     "name": "stdout",
     "output_type": "stream",
     "text": [
      "b\"x\\x01M\\x90OK\\x031\\x14\\xc4=\\xe7S<r\\x95\\r\\xdd\\xaa\\x85\\x82\\x8a\\x82[O\\x82\\xe8\\xb1\\xac\\x90M^m4\\xff|I\\x84|{\\xd3n)\\xde\\xc2\\xe41\\xf3\\x9b\\x99l\\x98\\xe0\\xba_]ls\\x08V\\xc4\\x80\\x99\\xea\\xc8\\xbct\\x08w\\xc0?M\\xee\\x8c\\xcfH^\\xda\\xd4\\xa5\\\\t\\xed\\x12\\xa6d\\x82\\xe7\\xec\\x17\\xe9\\xf08\\xdc\\xf5b!\\x16\\x9ciL\\x8aL\\xcc'\\xf5\\xddIkA\\xa3\\x0b\\x10v\\xf0l2\\x9c\\xbd`\\x17\\x08\\xa4?\\x0b\\xb0\\x91\\xb4\\xc3\\xac\\xf6p\\x0c\\x81s\\x88,y\\x1f(\\xb5\\x90-\\x1f\\xc8(\\xd8\\x14\\xeb\\x90\\xe0v\\xb9\\xbeY\\xae\\xd7\\xab\\xcba\\x16\\x1eJj8\\xc2\\x07\\xc2h\\xabh\\xe0\\xfb2\\t\\x15\\xdc=\\x1f\\x995\\n}:6z\\xa5\\x10\\xc9`\\x96T9#\\x94z.\\xfa6<>\\xbd\\x0c\\xc2i\\xce\\xd8\\xff)\\x84\\xc6\\x88^\\xa3W\\x06\\xd3\\xc8bm4\\xc7\\xc6\\x1fW\\xa2\\xef9\\xfb*Mj8m\\x83\\x8f\\xd3\\x08\\xcd`*\\xc6\\xea.\\xd5\\x94\\xd1\\x8d-\\xe5\\xa7\\x18\\xc2\\xb9\\xc3\\xbcp\\xa7\\x1ag\\x03\\x9b\\x0f'\\xa9\\xbe[\\xc8\\xc1d\\xfen\\xdc\\x84\\xc2\\xc9\\x14<U!\\xa3\\xe1\\xec\\x0f\\x05\\\\\\x8fM\"\n"
     ]
    }
   ],
   "source": [
    "with open(OBJECTS_ROOT_DIR / head_pyproject_id[:2] / head_pyproject_id[2:], \"rb\") as file_contents:\n",
    "    git_pyproject = file_contents.read()\n",
    "    print(git_pyproject)"
   ]
  },
  {
   "cell_type": "code",
   "execution_count": 12,
   "id": "a801a1a5",
   "metadata": {},
   "outputs": [
    {
     "name": "stdout",
     "output_type": "stream",
     "text": [
      "blob 416\u0000[tool.poetry]\n",
      "name = \"git-internals-study-session\"\n",
      "version = \"1.0.0\"\n",
      "description = \"Small demo of Git internals for an internal Farfetch study session\"\n",
      "authors = [\"Eric Fulmer <2952996+EFulmer@users.noreply.github.com>\"]\n",
      "license = \"Proprietary\"\n",
      "readme = \"README.md\"\n",
      "\n",
      "[tool.poetry.dependencies]\n",
      "python = \"^3.11\"\n",
      "jupyter = \"^1.0.0\"\n",
      "\n",
      "\n",
      "[build-system]\n",
      "requires = [\"poetry-core\"]\n",
      "build-backend = \"poetry.core.masonry.api\"\n",
      "\n"
     ]
    }
   ],
   "source": [
    "print(zlib.decompress(git_pyproject).decode(\"utf-8\"))"
   ]
  },
  {
   "cell_type": "markdown",
   "id": "9e43d47f",
   "metadata": {},
   "source": [
    "### Sanity check"
   ]
  },
  {
   "cell_type": "code",
   "execution_count": 13,
   "id": "4e2a97db",
   "metadata": {},
   "outputs": [
    {
     "name": "stdout",
     "output_type": "stream",
     "text": [
      "b5a99e2b88b7fdb8fb3e54a1df2ce801acecfeb5\r\n"
     ]
    }
   ],
   "source": [
    "!git hash-object -t blob pyproject.toml"
   ]
  },
  {
   "cell_type": "code",
   "execution_count": 15,
   "id": "ead4b896",
   "metadata": {},
   "outputs": [
    {
     "name": "stdout",
     "output_type": "stream",
     "text": [
      "[tool.poetry]\r\n",
      "name = \"git-internals-study-session\"\r\n",
      "version = \"1.0.0\"\r\n",
      "description = \"Small demo of Git internals for an internal Farfetch study session\"\r\n",
      "authors = [\"Eric Fulmer <2952996+EFulmer@users.noreply.github.com>\"]\r\n",
      "license = \"Proprietary\"\r\n",
      "readme = \"README.md\"\r\n",
      "\r\n",
      "[tool.poetry.dependencies]\r\n",
      "python = \"^3.11\"\r\n",
      "jupyter = \"^1.0.0\"\r\n",
      "\r\n",
      "\r\n",
      "[build-system]\r\n",
      "requires = [\"poetry-core\"]\r\n",
      "build-backend = \"poetry.core.masonry.api\"\r\n"
     ]
    }
   ],
   "source": [
    "!git cat-file -p b5a99e2b88b7fdb8fb3e54a1df2ce801acecfeb5"
   ]
  },
  {
   "cell_type": "markdown",
   "id": "7c57a29e",
   "metadata": {},
   "source": [
    "### Immutable object database!"
   ]
  },
  {
   "cell_type": "code",
   "execution_count": 16,
   "id": "75505073",
   "metadata": {},
   "outputs": [
    {
     "name": "stdout",
     "output_type": "stream",
     "text": [
      "[tool.poetry]\r\n",
      "name = \"git-internals-study-session\"\r\n",
      "version = \"1.0.0\"\r\n",
      "description = \"Small demo of Git internals for an internal Farfetch study session\"\r\n",
      "authors = [\"Eric Fulmer <2952996+EFulmer@users.noreply.github.com>\"]\r\n",
      "license = \"Proprietary\"\r\n",
      "readme = \"README.md\"\r\n",
      "packages = [{include = \"git_internals_study_session\"}]\r\n",
      "\r\n",
      "[tool.poetry.dependencies]\r\n",
      "python = \"^3.11\"\r\n",
      "jupyter = \"^1.0.0\"\r\n",
      "\r\n",
      "\r\n",
      "[build-system]\r\n",
      "requires = [\"poetry-core\"]\r\n",
      "build-backend = \"poetry.core.masonry.api\"\r\n"
     ]
    }
   ],
   "source": [
    "!git cat-file -p $OLD_FILE_ID"
   ]
  },
  {
   "cell_type": "markdown",
   "id": "04461a5e",
   "metadata": {},
   "source": [
    "## 1. Git Objects II - Tree"
   ]
  },
  {
   "cell_type": "code",
   "execution_count": null,
   "id": "611d0c8a",
   "metadata": {},
   "outputs": [],
   "source": []
  },
  {
   "cell_type": "markdown",
   "id": "d404b513",
   "metadata": {},
   "source": [
    "Read more: https://git-scm.com/book/en/v2/Git-Internals-Plumbing-and-Porcelain"
   ]
  }
 ],
 "metadata": {
  "kernelspec": {
   "display_name": "Python 3 (ipykernel)",
   "language": "python",
   "name": "python3"
  },
  "language_info": {
   "codemirror_mode": {
    "name": "ipython",
    "version": 3
   },
   "file_extension": ".py",
   "mimetype": "text/x-python",
   "name": "python",
   "nbconvert_exporter": "python",
   "pygments_lexer": "ipython3",
   "version": "3.11.1"
  }
 },
 "nbformat": 4,
 "nbformat_minor": 5
}
