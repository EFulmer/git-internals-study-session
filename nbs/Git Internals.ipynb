{
 "cells": [
  {
   "cell_type": "markdown",
   "id": "7da7a69e",
   "metadata": {},
   "source": [
    "# Git internals study session, 22 February 2023\n",
    "\n",
    "## 0. The `.git/` subdir "
   ]
  },
  {
   "cell_type": "code",
   "execution_count": 1,
   "id": "7ed38516",
   "metadata": {},
   "outputs": [
    {
     "data": {
      "text/plain": [
       "'/Users/eric.fulmer/code/git-internals-study-session/nbs'"
      ]
     },
     "execution_count": 1,
     "metadata": {},
     "output_type": "execute_result"
    }
   ],
   "source": [
    "%pwd"
   ]
  },
  {
   "cell_type": "code",
   "execution_count": 2,
   "id": "0fa6fa75",
   "metadata": {},
   "outputs": [
    {
     "name": "stdout",
     "output_type": "stream",
     "text": [
      "/Users/eric.fulmer/code/git-internals-study-session\n"
     ]
    }
   ],
   "source": [
    "%cd .."
   ]
  },
  {
   "cell_type": "code",
   "execution_count": 3,
   "id": "628ebe65",
   "metadata": {},
   "outputs": [],
   "source": [
    "import hashlib\n",
    "import os\n",
    "import pathlib\n",
    "import zlib"
   ]
  },
  {
   "cell_type": "code",
   "execution_count": 4,
   "id": "8aa104ea",
   "metadata": {},
   "outputs": [
    {
     "name": "stdout",
     "output_type": "stream",
     "text": [
      "True\n",
      ".git/config\n",
      ".git/objects\n",
      ".git/HEAD\n",
      ".git/info\n",
      ".git/logs\n",
      ".git/description\n",
      ".git/hooks\n",
      ".git/refs\n",
      ".git/index\n",
      ".git/COMMIT_EDITMSG\n"
     ]
    }
   ],
   "source": [
    "GIT_DIRECTORY = pathlib.PosixPath(\".git/\")\n",
    "\n",
    "OBJECTS_ROOT_DIR = GIT_DIRECTORY / \"objects\"\n",
    "\n",
    "OLD_FILE_ID = \"2bfc82f7e00838e0e39dde7b77c4df3b4817f091\"\n",
    "\n",
    "print(GIT_DIRECTORY.exists())\n",
    "print(\"\\n\".join([str(x) for x in GIT_DIRECTORY.iterdir()]))"
   ]
  },
  {
   "cell_type": "code",
   "execution_count": 5,
   "id": "52ad15f2",
   "metadata": {},
   "outputs": [
    {
     "name": "stdout",
     "output_type": "stream",
     "text": [
      "total 40\r\n",
      "drwxr-xr-x  12 eric.fulmer  1052847317   384B Feb 21 16:45 \u001b[1m\u001b[36m.\u001b[39;49m\u001b[0m\r\n",
      "drwxr-xr-x   9 eric.fulmer  1052847317   288B Feb 20 16:16 \u001b[1m\u001b[36m..\u001b[39;49m\u001b[0m\r\n",
      "-rw-r--r--   1 eric.fulmer  1052847317    24B Feb 21 16:44 COMMIT_EDITMSG\r\n",
      "-rw-r--r--   1 eric.fulmer  1052847317    21B Feb 21 16:45 HEAD\r\n",
      "-rw-r--r--   1 eric.fulmer  1052847317   320B Feb 21 16:45 config\r\n",
      "-rw-r--r--   1 eric.fulmer  1052847317    73B Feb 20 09:36 description\r\n",
      "drwxr-xr-x  15 eric.fulmer  1052847317   480B Feb 20 09:36 \u001b[1m\u001b[36mhooks\u001b[39;49m\u001b[0m\r\n",
      "-rw-r--r--   1 eric.fulmer  1052847317   539B Feb 21 16:44 index\r\n",
      "drwxr-xr-x   3 eric.fulmer  1052847317    96B Feb 20 09:36 \u001b[1m\u001b[36minfo\u001b[39;49m\u001b[0m\r\n",
      "drwxr-xr-x   4 eric.fulmer  1052847317   128B Feb 20 09:36 \u001b[1m\u001b[36mlogs\u001b[39;49m\u001b[0m\r\n",
      "drwxr-xr-x  24 eric.fulmer  1052847317   768B Feb 21 16:44 \u001b[1m\u001b[36mobjects\u001b[39;49m\u001b[0m\r\n",
      "drwxr-xr-x   5 eric.fulmer  1052847317   160B Feb 21 16:45 \u001b[1m\u001b[36mrefs\u001b[39;49m\u001b[0m\r\n"
     ]
    }
   ],
   "source": [
    "!ls -ahl .git/"
   ]
  },
  {
   "cell_type": "code",
   "execution_count": 6,
   "id": "d308ce3c",
   "metadata": {},
   "outputs": [
    {
     "name": "stdout",
     "output_type": "stream",
     "text": [
      "ref: refs/heads/main\n",
      "\n"
     ]
    }
   ],
   "source": [
    "with open(GIT_DIRECTORY / \"HEAD\", \"r\") as f:\n",
    "    print(f.read())"
   ]
  },
  {
   "cell_type": "markdown",
   "id": "aa2933e9",
   "metadata": {},
   "source": [
    "## 1. Git Objects I - Blobs"
   ]
  },
  {
   "cell_type": "code",
   "execution_count": 7,
   "id": "d3bd286c",
   "metadata": {},
   "outputs": [
    {
     "data": {
      "text/plain": [
       "['.git/objects/68/bc17f9ff2104a9d7b6777058bb4c343ca72609',\n",
       " '.git/objects/34/292f14b07a4603664a6ff4a0285a22d214754a',\n",
       " '.git/objects/9d/1dcfdaf1a6857c5f83dc27019c7600e1ffaff8',\n",
       " '.git/objects/a4/d2d0e56b9eb8300532f9d9e1bf1e38dce76011',\n",
       " '.git/objects/b5/a99e2b88b7fdb8fb3e54a1df2ce801acecfeb5',\n",
       " '.git/objects/d8/e0be6dc085079b872c14999a1783f47ca1311f',\n",
       " '.git/objects/ab/1964713b60fdfbe235a362b3ec0f2ef9c066c0',\n",
       " '.git/objects/c8/643ec5d032481de3f2fcc4abf03244cf2acc75',\n",
       " '.git/objects/c6/266c7a5b2b5825ff627216e8133135ff0ec496',\n",
       " '.git/objects/43/e6a9df6f7da386ebab015f923823325b7cb108',\n",
       " '.git/objects/06/fec98b0b438c682f5d9a53f96e1ce87dcf0ba8',\n",
       " '.git/objects/64/ba6ed86228c76b5090cef85c65d91a770c7a99',\n",
       " '.git/objects/bf/344ad78d35d1ac06d539e6720b02a15800a385',\n",
       " '.git/objects/e6/9de29bb2d1d6434b8b29ae775ad8c2e48c5391',\n",
       " '.git/objects/f6/145c9b7ecff3b9eccdb17cabc0b2cd1b2e2c10',\n",
       " '.git/objects/e7/d42dd6ea9c7d33673f6f81c171807137356eb5',\n",
       " '.git/objects/46/c51474515d3bc9c9388040206e58db2f2ff080',\n",
       " '.git/objects/41/dd0bdb604c7732ef6f9eb4b887a9bd5088b7df',\n",
       " '.git/objects/70/7b7d108cf0d5801e58574dfc84ce8d013961f1',\n",
       " '.git/objects/2b/fc82f7e00838e0e39dde7b77c4df3b4817f091']"
      ]
     },
     "execution_count": 7,
     "metadata": {},
     "output_type": "execute_result"
    }
   ],
   "source": [
    "[\n",
    "    f\".git/objects/{d.name}/{f.name}\" for d in (GIT_DIRECTORY / \"objects\").iterdir() if d.is_dir()\n",
    "    for f in d.iterdir() if f.is_file()\n",
    "]"
   ]
  },
  {
   "cell_type": "code",
   "execution_count": null,
   "id": "221407e3",
   "metadata": {},
   "outputs": [],
   "source": [
    "!ls -alt .git/objects"
   ]
  },
  {
   "cell_type": "code",
   "execution_count": null,
   "id": "4405cf23",
   "metadata": {},
   "outputs": [],
   "source": [
    "ls -alt .git/objects/d8"
   ]
  },
  {
   "cell_type": "code",
   "execution_count": 8,
   "id": "947f4221",
   "metadata": {},
   "outputs": [
    {
     "name": "stdout",
     "output_type": "stream",
     "text": [
      "b5a99e2b88b7fdb8fb3e54a1df2ce801acecfeb5\n"
     ]
    }
   ],
   "source": [
    "hasher = hashlib.sha1()\n",
    "\n",
    "with open(\"pyproject.toml\", \"r\") as f:\n",
    "    contents = f.read()\n",
    "    header = f\"blob {len(contents)}\\0\"\n",
    "    git_object = header + contents\n",
    "\n",
    "hasher.update(bytes(git_object.encode('utf-8')))\n",
    "print(hasher.hexdigest())\n",
    "head_pyproject_id = hasher.hexdigest()"
   ]
  },
  {
   "cell_type": "code",
   "execution_count": 9,
   "id": "f5b0fe8e",
   "metadata": {},
   "outputs": [
    {
     "name": "stdout",
     "output_type": "stream",
     "text": [
      "a99e2b88b7fdb8fb3e54a1df2ce801acecfeb5\r\n"
     ]
    }
   ],
   "source": [
    "!ls .git/objects/b5"
   ]
  },
  {
   "cell_type": "code",
   "execution_count": 10,
   "id": "fcf00123",
   "metadata": {},
   "outputs": [
    {
     "name": "stdout",
     "output_type": "stream",
     "text": [
      "b\"x\\x01M\\x90OK\\x031\\x14\\xc4=\\xe7S<r\\x95\\r\\xdd\\xaa\\x85\\x82\\x8a\\x82[O\\x82\\xe8\\xb1\\xac\\x90M^m4\\xff|I\\x84|{\\xd3n)\\xde\\xc2\\xe41\\xf3\\x9b\\x99l\\x98\\xe0\\xba_]ls\\x08V\\xc4\\x80\\x99\\xea\\xc8\\xbct\\x08w\\xc0?M\\xee\\x8c\\xcfH^\\xda\\xd4\\xa5\\\\t\\xed\\x12\\xa6d\\x82\\xe7\\xec\\x17\\xe9\\xf08\\xdc\\xf5b!\\x16\\x9ciL\\x8aL\\xcc'\\xf5\\xddIkA\\xa3\\x0b\\x10v\\xf0l2\\x9c\\xbd`\\x17\\x08\\xa4?\\x0b\\xb0\\x91\\xb4\\xc3\\xac\\xf6p\\x0c\\x81s\\x88,y\\x1f(\\xb5\\x90-\\x1f\\xc8(\\xd8\\x14\\xeb\\x90\\xe0v\\xb9\\xbeY\\xae\\xd7\\xab\\xcba\\x16\\x1eJj8\\xc2\\x07\\xc2h\\xabh\\xe0\\xfb2\\t\\x15\\xdc=\\x1f\\x995\\n}:6z\\xa5\\x10\\xc9`\\x96T9#\\x94z.\\xfa6<>\\xbd\\x0c\\xc2i\\xce\\xd8\\xff)\\x84\\xc6\\x88^\\xa3W\\x06\\xd3\\xc8bm4\\xc7\\xc6\\x1fW\\xa2\\xef9\\xfb*Mj8m\\x83\\x8f\\xd3\\x08\\xcd`*\\xc6\\xea.\\xd5\\x94\\xd1\\x8d-\\xe5\\xa7\\x18\\xc2\\xb9\\xc3\\xbcp\\xa7\\x1ag\\x03\\x9b\\x0f'\\xa9\\xbe[\\xc8\\xc1d\\xfen\\xdc\\x84\\xc2\\xc9\\x14<U!\\xa3\\xe1\\xec\\x0f\\x05\\\\\\x8fM\"\n"
     ]
    }
   ],
   "source": [
    "with open(OBJECTS_ROOT_DIR / head_pyproject_id[:2] / head_pyproject_id[2:], \"rb\") as file_contents:\n",
    "    git_pyproject = file_contents.read()\n",
    "    print(git_pyproject)"
   ]
  },
  {
   "cell_type": "code",
   "execution_count": 11,
   "id": "a801a1a5",
   "metadata": {
    "scrolled": true
   },
   "outputs": [
    {
     "name": "stdout",
     "output_type": "stream",
     "text": [
      "blob 416\u0000[tool.poetry]\n",
      "name = \"git-internals-study-session\"\n",
      "version = \"1.0.0\"\n",
      "description = \"Small demo of Git internals for an internal Farfetch study session\"\n",
      "authors = [\"Eric Fulmer <2952996+EFulmer@users.noreply.github.com>\"]\n",
      "license = \"Proprietary\"\n",
      "readme = \"README.md\"\n",
      "\n",
      "[tool.poetry.dependencies]\n",
      "python = \"^3.11\"\n",
      "jupyter = \"^1.0.0\"\n",
      "\n",
      "\n",
      "[build-system]\n",
      "requires = [\"poetry-core\"]\n",
      "build-backend = \"poetry.core.masonry.api\"\n",
      "\n"
     ]
    }
   ],
   "source": [
    "print(zlib.decompress(git_pyproject).decode(\"utf-8\"))"
   ]
  },
  {
   "cell_type": "code",
   "execution_count": 12,
   "id": "6a6f7b16",
   "metadata": {},
   "outputs": [
    {
     "name": "stdout",
     "output_type": "stream",
     "text": [
      "[tool.poetry]\r\n",
      "name = \"git-internals-study-session\"\r\n",
      "version = \"1.0.0\"\r\n",
      "description = \"Small demo of Git internals for an internal Farfetch study session\"\r\n",
      "authors = [\"Eric Fulmer <2952996+EFulmer@users.noreply.github.com>\"]\r\n",
      "license = \"Proprietary\"\r\n",
      "readme = \"README.md\"\r\n",
      "\r\n",
      "[tool.poetry.dependencies]\r\n",
      "python = \"^3.11\"\r\n",
      "jupyter = \"^1.0.0\"\r\n",
      "\r\n",
      "\r\n",
      "[build-system]\r\n",
      "requires = [\"poetry-core\"]\r\n",
      "build-backend = \"poetry.core.masonry.api\"\r\n"
     ]
    }
   ],
   "source": [
    "!cat pyproject.toml"
   ]
  },
  {
   "cell_type": "markdown",
   "id": "9e43d47f",
   "metadata": {},
   "source": [
    "### Sanity check"
   ]
  },
  {
   "cell_type": "code",
   "execution_count": 13,
   "id": "4e2a97db",
   "metadata": {},
   "outputs": [
    {
     "name": "stdout",
     "output_type": "stream",
     "text": [
      "b5a99e2b88b7fdb8fb3e54a1df2ce801acecfeb5\r\n"
     ]
    }
   ],
   "source": [
    "!git hash-object -t blob pyproject.toml"
   ]
  },
  {
   "cell_type": "code",
   "execution_count": 14,
   "id": "ead4b896",
   "metadata": {},
   "outputs": [
    {
     "name": "stdout",
     "output_type": "stream",
     "text": [
      "[tool.poetry]\r\n",
      "name = \"git-internals-study-session\"\r\n",
      "version = \"1.0.0\"\r\n",
      "description = \"Small demo of Git internals for an internal Farfetch study session\"\r\n",
      "authors = [\"Eric Fulmer <2952996+EFulmer@users.noreply.github.com>\"]\r\n",
      "license = \"Proprietary\"\r\n",
      "readme = \"README.md\"\r\n",
      "\r\n",
      "[tool.poetry.dependencies]\r\n",
      "python = \"^3.11\"\r\n",
      "jupyter = \"^1.0.0\"\r\n",
      "\r\n",
      "\r\n",
      "[build-system]\r\n",
      "requires = [\"poetry-core\"]\r\n",
      "build-backend = \"poetry.core.masonry.api\"\r\n"
     ]
    }
   ],
   "source": [
    "!git cat-file -p b5a99e2b88b7fdb8fb3e54a1df2ce801acecfeb5"
   ]
  },
  {
   "cell_type": "markdown",
   "id": "7c57a29e",
   "metadata": {},
   "source": [
    "### Immutable object database!"
   ]
  },
  {
   "cell_type": "code",
   "execution_count": 15,
   "id": "75505073",
   "metadata": {},
   "outputs": [
    {
     "name": "stdout",
     "output_type": "stream",
     "text": [
      "[tool.poetry]\r\n",
      "name = \"git-internals-study-session\"\r\n",
      "version = \"1.0.0\"\r\n",
      "description = \"Small demo of Git internals for an internal Farfetch study session\"\r\n",
      "authors = [\"Eric Fulmer <2952996+EFulmer@users.noreply.github.com>\"]\r\n",
      "license = \"Proprietary\"\r\n",
      "readme = \"README.md\"\r\n",
      "packages = [{include = \"git_internals_study_session\"}]\r\n",
      "\r\n",
      "[tool.poetry.dependencies]\r\n",
      "python = \"^3.11\"\r\n",
      "jupyter = \"^1.0.0\"\r\n",
      "\r\n",
      "\r\n",
      "[build-system]\r\n",
      "requires = [\"poetry-core\"]\r\n",
      "build-backend = \"poetry.core.masonry.api\"\r\n"
     ]
    }
   ],
   "source": [
    "!git cat-file -p $OLD_FILE_ID"
   ]
  },
  {
   "cell_type": "markdown",
   "id": "04461a5e",
   "metadata": {},
   "source": [
    "## 1. Git Objects II - Tree"
   ]
  },
  {
   "cell_type": "code",
   "execution_count": 16,
   "id": "611d0c8a",
   "metadata": {},
   "outputs": [
    {
     "name": "stdout",
     "output_type": "stream",
     "text": [
      "100644 blob 68bc17f9ff2104a9d7b6777058bb4c343ca72609\t.gitignore\r\n",
      "040000 tree 06fec98b0b438c682f5d9a53f96e1ce87dcf0ba8\tnbs\r\n",
      "100644 blob ab1964713b60fdfbe235a362b3ec0f2ef9c066c0\tpoetry.lock\r\n",
      "100644 blob b5a99e2b88b7fdb8fb3e54a1df2ce801acecfeb5\tpyproject.toml\r\n"
     ]
    }
   ],
   "source": [
    "!git cat-file -p main^{tree}"
   ]
  },
  {
   "cell_type": "code",
   "execution_count": 17,
   "id": "9bba6221",
   "metadata": {},
   "outputs": [
    {
     "name": "stdout",
     "output_type": "stream",
     "text": [
      "total 232\r\n",
      "drwxr-xr-x   5 eric.fulmer  1052847317   160B Feb 22 10:26 \u001b[1m\u001b[36mnbs\u001b[39;49m\u001b[0m\r\n",
      "drwxr-xr-x  12 eric.fulmer  1052847317   384B Feb 21 16:45 \u001b[1m\u001b[36m.git\u001b[39;49m\u001b[0m\r\n",
      "drwxr-xr-x   2 eric.fulmer  1052847317    64B Feb 20 16:16 \u001b[1m\u001b[36m.ipynb_checkpoints\u001b[39;49m\u001b[0m\r\n",
      "drwxr-xr-x   9 eric.fulmer  1052847317   288B Feb 20 16:16 \u001b[1m\u001b[36m.\u001b[39;49m\u001b[0m\r\n",
      "-rw-r--r--   1 eric.fulmer  1052847317   416B Feb 20 16:04 pyproject.toml\r\n",
      "-rw-r--r--   1 eric.fulmer  1052847317   3.0K Feb 20 09:37 .gitignore\r\n",
      "-rw-r--r--   1 eric.fulmer  1052847317   102K Feb 20 09:34 poetry.lock\r\n",
      "-rw-r--r--   1 eric.fulmer  1052847317     7B Feb 20 09:33 .python-version\r\n",
      "drwxr-xr-x  29 eric.fulmer  1052847317   928B Feb 20 09:31 \u001b[1m\u001b[36m..\u001b[39;49m\u001b[0m\r\n"
     ]
    }
   ],
   "source": [
    "!ls -halt"
   ]
  },
  {
   "cell_type": "code",
   "execution_count": 18,
   "id": "784d24da",
   "metadata": {},
   "outputs": [
    {
     "name": "stdout",
     "output_type": "stream",
     "text": [
      "# Byte-compiled / optimized / DLL files\r\n",
      "__pycache__/\r\n",
      "*.py[cod]\r\n",
      "*$py.class\r\n",
      "\r\n",
      "# C extensions\r\n",
      "*.so\r\n",
      "\r\n",
      "# Distribution / packaging\r\n",
      ".Python\r\n",
      "build/\r\n",
      "develop-eggs/\r\n",
      "dist/\r\n",
      "downloads/\r\n",
      "eggs/\r\n",
      ".eggs/\r\n",
      "lib/\r\n",
      "lib64/\r\n",
      "parts/\r\n",
      "sdist/\r\n",
      "var/\r\n",
      "wheels/\r\n",
      "share/python-wheels/\r\n",
      "*.egg-info/\r\n",
      ".installed.cfg\r\n",
      "*.egg\r\n",
      "MANIFEST\r\n",
      "\r\n",
      "# PyInstaller\r\n",
      "#  Usually these files are written by a python script from a template\r\n",
      "#  before PyInstaller builds the exe, so as to inject date/other infos into it.\r\n",
      "*.manifest\r\n",
      "*.spec\r\n",
      "\r\n",
      "# Installer logs\r\n",
      "pip-log.txt\r\n",
      "pip-delete-this-directory.txt\r\n",
      "\r\n",
      "# Unit test / coverage reports\r\n",
      "htmlcov/\r\n",
      ".tox/\r\n",
      ".nox/\r\n",
      ".coverage\r\n",
      ".coverage.*\r\n",
      ".cache\r\n",
      "nosetests.xml\r\n",
      "coverage.xml\r\n",
      "*.cover\r\n",
      "*.py,cover\r\n",
      ".hypothesis/\r\n",
      ".pytest_cache/\r\n",
      "cover/\r\n",
      "\r\n",
      "# Translations\r\n",
      "*.mo\r\n",
      "*.pot\r\n",
      "\r\n",
      "# Django stuff:\r\n",
      "*.log\r\n",
      "local_settings.py\r\n",
      "db.sqlite3\r\n",
      "db.sqlite3-journal\r\n",
      "\r\n",
      "# Flask stuff:\r\n",
      "instance/\r\n",
      ".webassets-cache\r\n",
      "\r\n",
      "# Scrapy stuff:\r\n",
      ".scrapy\r\n",
      "\r\n",
      "# Sphinx documentation\r\n",
      "docs/_build/\r\n",
      "\r\n",
      "# PyBuilder\r\n",
      ".pybuilder/\r\n",
      "target/\r\n",
      "\r\n",
      "# Jupyter Notebook\r\n",
      ".ipynb_checkpoints\r\n",
      "\r\n",
      "# IPython\r\n",
      "profile_default/\r\n",
      "ipython_config.py\r\n",
      "\r\n",
      "# pyenv\r\n",
      "#   For a library or package, you might want to ignore these files since the code is\r\n",
      "#   intended to run in multiple environments; otherwise, check them in:\r\n",
      "# .python-version\r\n",
      "\r\n",
      "# pipenv\r\n",
      "#   According to pypa/pipenv#598, it is recommended to include Pipfile.lock in version control.\r\n",
      "#   However, in case of collaboration, if having platform-specific dependencies or dependencies\r\n",
      "#   having no cross-platform support, pipenv may install dependencies that don't work, or not\r\n",
      "#   install all needed dependencies.\r\n",
      "#Pipfile.lock\r\n",
      "\r\n",
      "# poetry\r\n",
      "#   Similar to Pipfile.lock, it is generally recommended to include poetry.lock in version control.\r\n",
      "#   This is especially recommended for binary packages to ensure reproducibility, and is more\r\n",
      "#   commonly ignored for libraries.\r\n",
      "#   https://python-poetry.org/docs/basic-usage/#commit-your-poetrylock-file-to-version-control\r\n",
      "#poetry.lock\r\n",
      "\r\n",
      "# pdm\r\n",
      "#   Similar to Pipfile.lock, it is generally recommended to include pdm.lock in version control.\r\n",
      "#pdm.lock\r\n",
      "#   pdm stores project-wide configurations in .pdm.toml, but it is recommended to not include it\r\n",
      "#   in version control.\r\n",
      "#   https://pdm.fming.dev/#use-with-ide\r\n",
      ".pdm.toml\r\n",
      "\r\n",
      "# PEP 582; used by e.g. github.com/David-OConnor/pyflow and github.com/pdm-project/pdm\r\n",
      "__pypackages__/\r\n",
      "\r\n",
      "# Celery stuff\r\n",
      "celerybeat-schedule\r\n",
      "celerybeat.pid\r\n",
      "\r\n",
      "# SageMath parsed files\r\n",
      "*.sage.py\r\n",
      "\r\n",
      "# Environments\r\n",
      ".env\r\n",
      ".venv\r\n",
      "env/\r\n",
      "venv/\r\n",
      "ENV/\r\n",
      "env.bak/\r\n",
      "venv.bak/\r\n",
      "\r\n",
      "# Spyder project settings\r\n",
      ".spyderproject\r\n",
      ".spyproject\r\n",
      "\r\n",
      "# Rope project settings\r\n",
      ".ropeproject\r\n",
      "\r\n",
      "# mkdocs documentation\r\n",
      "/site\r\n",
      "\r\n",
      "# mypy\r\n",
      ".mypy_cache/\r\n",
      ".dmypy.json\r\n",
      "dmypy.json\r\n",
      "\r\n",
      "# Pyre type checker\r\n",
      ".pyre/\r\n",
      "\r\n",
      "# pytype static type analyzer\r\n",
      ".pytype/\r\n",
      "\r\n",
      "# Cython debug symbols\r\n",
      "cython_debug/\r\n",
      "\r\n",
      "# PyCharm\r\n",
      "#  JetBrains specific template is maintained in a separate JetBrains.gitignore that can\r\n",
      "#  be found at https://github.com/github/gitignore/blob/main/Global/JetBrains.gitignore\r\n",
      "#  and can be added to the global gitignore or merged into this file.  For a more nuclear\r\n",
      "#  option (not recommended) you can uncomment the following to ignore the entire idea folder.\r\n",
      "#.idea/\r\n"
     ]
    }
   ],
   "source": [
    "!git cat-file -p 68bc17f9ff2104a9d7b6777058bb4c343ca72609"
   ]
  },
  {
   "cell_type": "code",
   "execution_count": 19,
   "id": "3d47b88e",
   "metadata": {},
   "outputs": [
    {
     "name": "stdout",
     "output_type": "stream",
     "text": [
      "100644 blob e7d42dd6ea9c7d33673f6f81c171807137356eb5\tGit Internals.ipynb\r\n",
      "040000 tree 9d1dcfdaf1a6857c5f83dc27019c7600e1ffaff8\tutils\r\n"
     ]
    }
   ],
   "source": [
    "!git cat-file -p bf344ad78d35d1ac06d539e6720b02a15800a385"
   ]
  },
  {
   "cell_type": "markdown",
   "id": "1c909456",
   "metadata": {},
   "source": [
    "## 2. Git Objects III - Commit"
   ]
  },
  {
   "cell_type": "code",
   "execution_count": 20,
   "id": "e1b322fb",
   "metadata": {
    "scrolled": true
   },
   "outputs": [
    {
     "name": "stdout",
     "output_type": "stream",
     "text": [
      "\u001b[33ma4d2d0e\u001b[m\u001b[33m (\u001b[m\u001b[1;36mHEAD -> \u001b[m\u001b[1;32mmain\u001b[m\u001b[33m, \u001b[m\u001b[1;31morigin/main\u001b[m\u001b[33m)\u001b[m last commit before pres\r\n",
      "\u001b[33m34292f1\u001b[m add subdir for tree demo\r\n",
      "\u001b[33md8e0be6\u001b[m remove packages line from pyproject.toml\r\n",
      "\u001b[33m46c5147\u001b[m add .gitignore\r\n",
      "\u001b[33m41dd0bd\u001b[m\u001b[33m (\u001b[m\u001b[1;33mtag: start\u001b[m\u001b[33m)\u001b[m first commit\r\n"
     ]
    }
   ],
   "source": [
    "!git log --oneline"
   ]
  },
  {
   "cell_type": "code",
   "execution_count": 21,
   "id": "4c730182",
   "metadata": {},
   "outputs": [
    {
     "name": "stdout",
     "output_type": "stream",
     "text": [
      "tree 43e6a9df6f7da386ebab015f923823325b7cb108\r\n",
      "parent d8e0be6dc085079b872c14999a1783f47ca1311f\r\n",
      "author Eric Fulmer <2952996+EFulmer@users.noreply.github.com> 1676927848 -0500\r\n",
      "committer Eric Fulmer <2952996+EFulmer@users.noreply.github.com> 1676927848 -0500\r\n",
      "\r\n",
      "add subdir for tree demo\r\n"
     ]
    }
   ],
   "source": [
    "!git cat-file -p 34292f1"
   ]
  },
  {
   "cell_type": "code",
   "execution_count": 22,
   "id": "63842ac7",
   "metadata": {},
   "outputs": [
    {
     "name": "stdout",
     "output_type": "stream",
     "text": [
      "tree 64ba6ed86228c76b5090cef85c65d91a770c7a99\r\n",
      "author Eric Fulmer <2952996+EFulmer@users.noreply.github.com> 1676903814 -0500\r\n",
      "committer Eric Fulmer <2952996+EFulmer@users.noreply.github.com> 1676903814 -0500\r\n",
      "\r\n",
      "first commit\r\n"
     ]
    }
   ],
   "source": [
    "!git cat-file -p 41dd0bd"
   ]
  },
  {
   "cell_type": "code",
   "execution_count": 23,
   "id": "88407798",
   "metadata": {},
   "outputs": [
    {
     "name": "stdout",
     "output_type": "stream",
     "text": [
      "100644 blob ab1964713b60fdfbe235a362b3ec0f2ef9c066c0\tpoetry.lock\r\n",
      "100644 blob 2bfc82f7e00838e0e39dde7b77c4df3b4817f091\tpyproject.toml\r\n"
     ]
    }
   ],
   "source": [
    "!git cat-file -p 64ba6ed86228c76b5090cef85c65d91a770c7a99"
   ]
  },
  {
   "cell_type": "markdown",
   "id": "88f5610b",
   "metadata": {},
   "source": [
    "## 2. Git Objects IV - Refs"
   ]
  },
  {
   "cell_type": "code",
   "execution_count": 24,
   "id": "7bdd8993",
   "metadata": {},
   "outputs": [
    {
     "data": {
      "text/plain": [
       "'/Users/eric.fulmer/code/git-internals-study-session'"
      ]
     },
     "execution_count": 24,
     "metadata": {},
     "output_type": "execute_result"
    }
   ],
   "source": [
    "%pwd"
   ]
  },
  {
   "cell_type": "code",
   "execution_count": 25,
   "id": "c3b36f2e",
   "metadata": {},
   "outputs": [
    {
     "name": "stdout",
     "output_type": "stream",
     "text": [
      "total 0\r\n",
      "drwxr-xr-x   3 eric.fulmer  1052847317   96 Feb 21 16:45 \u001b[1m\u001b[36mremotes\u001b[39;49m\u001b[0m\r\n",
      "drwxr-xr-x   5 eric.fulmer  1052847317  160 Feb 21 16:45 \u001b[1m\u001b[36m.\u001b[39;49m\u001b[0m\r\n",
      "drwxr-xr-x  12 eric.fulmer  1052847317  384 Feb 21 16:45 \u001b[1m\u001b[36m..\u001b[39;49m\u001b[0m\r\n",
      "drwxr-xr-x   3 eric.fulmer  1052847317   96 Feb 21 16:45 \u001b[1m\u001b[36mheads\u001b[39;49m\u001b[0m\r\n",
      "drwxr-xr-x   3 eric.fulmer  1052847317   96 Feb 21 10:47 \u001b[1m\u001b[36mtags\u001b[39;49m\u001b[0m\r\n"
     ]
    }
   ],
   "source": [
    "!ls -alt .git/refs/"
   ]
  },
  {
   "cell_type": "code",
   "execution_count": 26,
   "id": "9d2659ca",
   "metadata": {},
   "outputs": [
    {
     "name": "stdout",
     "output_type": "stream",
     "text": [
      "total 8\r\n",
      "drwxr-xr-x  5 eric.fulmer  1052847317  160 Feb 21 16:45 \u001b[1m\u001b[36m..\u001b[39;49m\u001b[0m\r\n",
      "drwxr-xr-x  3 eric.fulmer  1052847317   96 Feb 21 10:47 \u001b[1m\u001b[36m.\u001b[39;49m\u001b[0m\r\n",
      "-rw-r--r--  1 eric.fulmer  1052847317   41 Feb 21 10:47 start\r\n"
     ]
    }
   ],
   "source": [
    "!ls -alt .git/refs/tags"
   ]
  },
  {
   "cell_type": "code",
   "execution_count": 27,
   "id": "8ac160c3",
   "metadata": {},
   "outputs": [
    {
     "name": "stdout",
     "output_type": "stream",
     "text": [
      "41dd0bdb604c7732ef6f9eb4b887a9bd5088b7df\r\n"
     ]
    }
   ],
   "source": [
    "!cat .git/refs/tags/start"
   ]
  },
  {
   "cell_type": "code",
   "execution_count": 28,
   "id": "d9a55684",
   "metadata": {},
   "outputs": [
    {
     "name": "stdout",
     "output_type": "stream",
     "text": [
      "tree 64ba6ed86228c76b5090cef85c65d91a770c7a99\r\n",
      "author Eric Fulmer <2952996+EFulmer@users.noreply.github.com> 1676903814 -0500\r\n",
      "committer Eric Fulmer <2952996+EFulmer@users.noreply.github.com> 1676903814 -0500\r\n",
      "\r\n",
      "first commit\r\n"
     ]
    }
   ],
   "source": [
    "!git cat-file -p 41dd0bdb604c7732ef6f9eb4b887a9bd5088b7df"
   ]
  },
  {
   "cell_type": "code",
   "execution_count": 29,
   "id": "75f96f2f",
   "metadata": {},
   "outputs": [
    {
     "name": "stdout",
     "output_type": "stream",
     "text": [
      "total 8\r\n",
      "drwxr-xr-x  5 eric.fulmer  1052847317  160 Feb 21 16:45 \u001b[1m\u001b[36m..\u001b[39;49m\u001b[0m\r\n",
      "drwxr-xr-x  3 eric.fulmer  1052847317   96 Feb 21 16:45 \u001b[1m\u001b[36m.\u001b[39;49m\u001b[0m\r\n",
      "-rw-r--r--  1 eric.fulmer  1052847317   41 Feb 21 16:45 main\r\n"
     ]
    }
   ],
   "source": [
    "!ls -alt .git/refs/heads"
   ]
  },
  {
   "cell_type": "code",
   "execution_count": 30,
   "id": "32d4d82a",
   "metadata": {},
   "outputs": [
    {
     "name": "stdout",
     "output_type": "stream",
     "text": [
      "a4d2d0e56b9eb8300532f9d9e1bf1e38dce76011\r\n"
     ]
    }
   ],
   "source": [
    "!cat .git/refs/heads/main"
   ]
  },
  {
   "cell_type": "markdown",
   "id": "827eed1d",
   "metadata": {},
   "source": [
    "## 3. Index"
   ]
  },
  {
   "cell_type": "code",
   "execution_count": 31,
   "id": "fcf6d7fe",
   "metadata": {},
   "outputs": [
    {
     "name": "stdout",
     "output_type": "stream",
     "text": [
      "On branch main\n",
      "Your branch is up to date with 'origin/main'.\n",
      "\n",
      "Changes not staged for commit:\n",
      "  (use \"git add <file>...\" to update what will be committed)\n",
      "  (use \"git restore <file>...\" to discard changes in working directory)\n",
      "\t\u001b[31mmodified:   nbs/Git Internals.ipynb\u001b[m\n",
      "\n",
      "Untracked files:\n",
      "  (use \"git add <file>...\" to include in what will be committed)\n",
      "\t\u001b[31m.python-version\u001b[m\n",
      "\n",
      "no changes added to commit (use \"git add\" and/or \"git commit -a\")\n"
     ]
    }
   ],
   "source": [
    "!git status"
   ]
  },
  {
   "cell_type": "code",
   "execution_count": 32,
   "id": "2dfda71a",
   "metadata": {},
   "outputs": [],
   "source": [
    "with open(\".git/index\", \"rb\") as f:\n",
    "    index = f.read()"
   ]
  },
  {
   "cell_type": "code",
   "execution_count": 33,
   "id": "28576d0d",
   "metadata": {},
   "outputs": [
    {
     "data": {
      "text/plain": [
       "b'DIRC\\x00\\x00\\x00\\x02\\x00\\x00\\x00\\x05c\\xf3\\x85\\xaf\\x1ap\\xc6\\xc5c\\xf3\\x85\\xaf\\x1ap\\xc6\\xc5\\x01\\x00\\x00\\t\\x01\\x9bB_\\x00\\x00\\x81\\xa4/\\xc5\\x9b\\x90>\\xc1,\\xd5\\x00\\x00\\x0c\\x06h\\xbc\\x17\\xf9\\xff!\\x04\\xa9\\xd7\\xb6wpX\\xbbL4<\\xa7&\\t\\x00\\n.gitignore\\x00\\x00\\x00\\x00\\x00\\x00\\x00\\x00c\\xf5;\"\\x1bF\\x7fPc\\xf5;\"\\x1bF\\x7fP\\x01\\x00\\x00\\t\\x01\\x9bC\\xa3\\x00\\x00\\x81\\xa4/\\xc5\\x9b\\x90>\\xc1,\\xd5\\x00\\x00j\\xf6\\xc8d>\\xc5\\xd02H\\x1d\\xe3\\xf2\\xfc\\xc4\\xab\\xf02D\\xcf*\\xccu\\x00\\x17nbs/Git Internals.ipynb\\x00\\x00\\x00c\\xf3\\xe3Q,u\\xda\\xccc\\xf3\\xe3Q,u\\xda\\xcc\\x01\\x00\\x00\\t\\x01\\x9b\\x8c\\xbf\\x00\\x00\\x81\\xa4/\\xc5\\x9b\\x90>\\xc1,\\xd5\\x00\\x00\\x00\\x00\\xe6\\x9d\\xe2\\x9b\\xb2\\xd1\\xd6CK\\x8b)\\xaewZ\\xd8\\xc2\\xe4\\x8cS\\x91\\x00\\x15nbs/utils/__init__.py\\x00\\x00\\x00\\x00\\x00c\\xf3\\x85\\x04.\\xdc\\x84$c\\xf3\\x85\\x04.\\xdc\\x84$\\x01\\x00\\x00\\t\\x01\\x9b\\x0bv\\x00\\x00\\x81\\xa4/\\xc5\\x9b\\x90>\\xc1,\\xd5\\x00\\x01\\x99x\\xab\\x19dq;`\\xfd\\xfb\\xe25\\xa3b\\xb3\\xec\\x0f.\\xf9\\xc0f\\xc0\\x00\\x0bpoetry.lock\\x00\\x00\\x00\\x00\\x00\\x00\\x00c\\xf3\\xe0h\\x16\\xc8\\x03\\x87c\\xf3\\xe0h\\x16\\xc4\\xc0\\x1f\\x01\\x00\\x00\\t\\x01\\x9b\\x8b\\x14\\x00\\x00\\x81\\xa4/\\xc5\\x9b\\x90>\\xc1,\\xd5\\x00\\x00\\x01\\xa0\\xb5\\xa9\\x9e+\\x88\\xb7\\xfd\\xb8\\xfb>T\\xa1\\xdf,\\xe8\\x01\\xac\\xec\\xfe\\xb5\\x00\\x0epyproject.toml\\x00\\x00\\x00\\x00TREE\\x00\\x00\\x00S\\x005 1\\n\\xf6\\x14\\\\\\x9b~\\xcf\\xf3\\xb9\\xec\\xcd\\xb1|\\xab\\xc0\\xb2\\xcd\\x1b.,\\x10nbs\\x002 1\\n\\x06\\xfe\\xc9\\x8b\\x0bC\\x8ch/]\\x9aS\\xf9n\\x1c\\xe8}\\xcf\\x0b\\xa8utils\\x001 0\\n\\x9d\\x1d\\xcf\\xda\\xf1\\xa6\\x85|_\\x83\\xdc\\'\\x01\\x9cv\\x00\\xe1\\xff\\xaf\\xf8iW\\xf7\\xd4\\xbe\\xe3Q\\xef\\x06\\xd3S|\\xca\\x885\\xee]8\\x01v'"
      ]
     },
     "execution_count": 33,
     "metadata": {},
     "output_type": "execute_result"
    }
   ],
   "source": [
    "index"
   ]
  },
  {
   "cell_type": "code",
   "execution_count": 34,
   "id": "f6466c8b",
   "metadata": {},
   "outputs": [
    {
     "ename": "error",
     "evalue": "Error -3 while decompressing data: incorrect header check",
     "output_type": "error",
     "traceback": [
      "\u001b[0;31m---------------------------------------------------------------------------\u001b[0m",
      "\u001b[0;31merror\u001b[0m                                     Traceback (most recent call last)",
      "Cell \u001b[0;32mIn[34], line 1\u001b[0m\n\u001b[0;32m----> 1\u001b[0m \u001b[38;5;28mprint\u001b[39m(\u001b[43mzlib\u001b[49m\u001b[38;5;241;43m.\u001b[39;49m\u001b[43mdecompress\u001b[49m\u001b[43m(\u001b[49m\u001b[43mindex\u001b[49m\u001b[43m)\u001b[49m\u001b[38;5;241m.\u001b[39mdecode(\u001b[38;5;124m\"\u001b[39m\u001b[38;5;124mutf-8\u001b[39m\u001b[38;5;124m\"\u001b[39m))\n",
      "\u001b[0;31merror\u001b[0m: Error -3 while decompressing data: incorrect header check"
     ]
    }
   ],
   "source": [
    "print(zlib.decompress(index).decode(\"utf-8\"))"
   ]
  },
  {
   "cell_type": "markdown",
   "id": "89d640dd",
   "metadata": {},
   "source": [
    "Documentation on the format of the index: https://git-scm.com/docs/index-format"
   ]
  },
  {
   "cell_type": "markdown",
   "id": "d404b513",
   "metadata": {},
   "source": [
    "# Fin\n",
    "Read more:\n",
    "* Pro Git chapter about Git internals: https://git-scm.com/book/en/v2/Git-Internals-Plumbing-and-Porcelain\n",
    "* libgit2 (Python library for interacting with Git): https://github.com/libgit2/pygit2\n",
    "* Online documentation reference: https://git-scm.com/docs/\n",
    "* Git Index Format: https://git-scm.com/docs/index-format"
   ]
  }
 ],
 "metadata": {
  "kernelspec": {
   "display_name": "Python 3 (ipykernel)",
   "language": "python",
   "name": "python3"
  },
  "language_info": {
   "codemirror_mode": {
    "name": "ipython",
    "version": 3
   },
   "file_extension": ".py",
   "mimetype": "text/x-python",
   "name": "python",
   "nbconvert_exporter": "python",
   "pygments_lexer": "ipython3",
   "version": "3.11.1"
  }
 },
 "nbformat": 4,
 "nbformat_minor": 5
}
